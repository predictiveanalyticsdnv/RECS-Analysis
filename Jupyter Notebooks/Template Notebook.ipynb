{
 "cells": [
  {
   "cell_type": "markdown",
   "metadata": {},
   "source": [
    "<font color='#004f9e' size=\"4\">PROJECT NAME</font>\n",
    "<br><font color='#004f9e' size=\"4\">DNV GL</font>\n",
    "\n",
    "<font color='#171749' size=\"6.5\"><center>Notebook Title</center></font>\n",
    "\n",
    "<br><font color='#171749' size=\"5\">Project Context</font>\n",
    "\n",
    "What is the context of the project? Why are we building this notebook?\n",
    "\n",
    "\n",
    "<br><font color='#171749' size=\"5\">Calculation</font>\n",
    "\n",
    "If applicable, include any equations here. Jupyter is able to interpret MathJax and Latex equations.\n",
    "\n",
    "<br>\n",
    "$$ Fraction = \\frac{Numerator}{Denominator} $$\n",
    "\n",
    "<br><font color='#171749' size=\"5\">Input Datasets </font>\n",
    "\n",
    "Describe all input datasets in this section.\n",
    "\n",
    "| Dataset | File Name | Data Cleaning |\n",
    "| --- | --- | --- |\n",
    "| Dataset A | File_A.xlsx | Remove blanks |\n",
    "| Dataset B | File_B.xlsx | Exclude row 32 |\n",
    "\n",
    "\n",
    "<br><font color='#171749' size=\"5\">Output Datasets </font>\n",
    "\n",
    "Describe all output datasets in this section.\n",
    "\n",
    "| Dataset | File Name |\n",
    "| --- | --- |\n",
    "| Output Z | File_Z.xlsx |"
   ]
  },
  {
   "cell_type": "raw",
   "metadata": {},
   "source": [
    "<script>\n",
    "  function code_toggle() {\n",
    "    if (code_shown){\n",
    "      $('div.input').hide('500');\n",
    "      $('#toggleButton').val('Show Code')\n",
    "    } else {\n",
    "      $('div.input').show('500');\n",
    "      $('#toggleButton').val('Hide Code')\n",
    "    }\n",
    "    code_shown = !code_shown\n",
    "  }\n",
    "  $( document ).ready(function(){\n",
    "    code_shown=false;\n",
    "    $('div.input').hide()\n",
    "  });\n",
    "</script>\n",
    "<form action=\"javascript:code_toggle()\"><input type=\"submit\" id=\"toggleButton\" value=\"Show Code\"></form>"
   ]
  },
  {
   "cell_type": "code",
   "execution_count": 1,
   "metadata": {},
   "outputs": [
    {
     "data": {
      "text/plain": [
       "<module 'PyLib.PythonFile1' from 'C:\\\\Users\\\\benjohn\\\\Documents\\\\GitHub\\\\Template-Python-Project\\\\PyLib\\\\PythonFile1.py'>"
      ]
     },
     "execution_count": 1,
     "metadata": {},
     "output_type": "execute_result"
    }
   ],
   "source": [
    "from datetime import date\n",
    "import pandas as pd\n",
    "import numpy as np\n",
    "from IPython.display import HTML, Markdown, display\n",
    "import ipywidgets as widgets\n",
    "\n",
    "\n",
    "######################\n",
    "# Custom Module Import\n",
    "#####################\n",
    "import os,sys,inspect\n",
    "currentdir = os.path.dirname(os.path.abspath(inspect.getfile(inspect.currentframe())))\n",
    "parentdir = os.path.dirname(currentdir)\n",
    "sys.path.insert(0,parentdir) \n",
    "\n",
    "\n",
    "import PyLib.PythonFile1 as MyPy\n",
    "\n",
    "# to refresh the module use importlib.reload\n",
    "import importlib\n",
    "importlib.reload(MyPy)"
   ]
  },
  {
   "cell_type": "code",
   "execution_count": 2,
   "metadata": {},
   "outputs": [
    {
     "data": {
      "text/plain": [
       "13.23"
      ]
     },
     "execution_count": 2,
     "metadata": {},
     "output_type": "execute_result"
    }
   ],
   "source": [
    "#####\n",
    "# Bamboo Lib includes general data transformation functions\n",
    "# which can be applied accross projects\n",
    "#####\n",
    "\n",
    "testNum = 5\n",
    "\n",
    "# we will use a hashing function in the BambooLib.Ingest module\n",
    "MyPy.longFunc(testNum)"
   ]
  },
  {
   "cell_type": "code",
   "execution_count": null,
   "metadata": {},
   "outputs": [],
   "source": []
  }
 ],
 "metadata": {
  "kernelspec": {
   "display_name": "Python 3",
   "language": "python",
   "name": "python3"
  },
  "language_info": {
   "codemirror_mode": {
    "name": "ipython",
    "version": 3
   },
   "file_extension": ".py",
   "mimetype": "text/x-python",
   "name": "python",
   "nbconvert_exporter": "python",
   "pygments_lexer": "ipython3",
   "version": "3.7.4"
  }
 },
 "nbformat": 4,
 "nbformat_minor": 4
}
