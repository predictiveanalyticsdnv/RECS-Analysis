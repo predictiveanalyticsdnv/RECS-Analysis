{
 "cells": [
  {
   "cell_type": "markdown",
   "metadata": {},
   "source": [
    "<font color='#004f9e' size=\"4\">PROJECT NAME</font>\n",
    "<br><font color='#004f9e' size=\"4\">DNV GL</font>\n",
    "\n",
    "<font color='#171749' size=\"6.5\"><center>Notebook Title</center></font>\n",
    "\n",
    "<br><font color='#171749' size=\"5\">Project Context</font>\n",
    "\n",
    "What is the context of the project? Why are we building this notebook?\n",
    "\n",
    "\n",
    "<br><font color='#171749' size=\"5\">Calculation</font>\n",
    "\n",
    "If applicable, include any equations here. Jupyter is able to interpret MathJax and Latex equations.\n",
    "\n",
    "<br>\n",
    "$$ Fraction = \\frac{Numerator}{Denominator} $$\n",
    "\n",
    "<br><font color='#171749' size=\"5\">Input Datasets </font>\n",
    "\n",
    "Describe all input datasets in this section.\n",
    "\n",
    "| Dataset | File Name | Data Cleaning |\n",
    "| --- | --- | --- |\n",
    "| Dataset A | File_A.xlsx | Remove blanks |\n",
    "| Dataset B | File_B.xlsx | Exclude row 32 |\n",
    "\n",
    "\n",
    "<br><font color='#171749' size=\"5\">Output Datasets </font>\n",
    "\n",
    "Describe all output datasets in this section.\n",
    "\n",
    "| Dataset | File Name |\n",
    "| --- | --- |\n",
    "| Output Z | File_Z.xlsx |"
   ]
  },
  {
   "cell_type": "code",
   "execution_count": 5,
   "metadata": {},
   "outputs": [
    {
     "data": {
      "text/plain": [
       "<module 'PyLib.BambooLib.BambooLib.Ingest' from 'C:\\\\Users\\\\benjohn\\\\Documents\\\\GitHub\\\\Template-Python-Project\\\\PyLib\\\\BambooLib\\\\BambooLib\\\\Ingest.py'>"
      ]
     },
     "execution_count": 5,
     "metadata": {},
     "output_type": "execute_result"
    }
   ],
   "source": [
    "from datetime import date\n",
    "import pandas as pd\n",
    "import numpy as np\n",
    "from IPython.display import HTML, Markdown, display\n",
    "import ipywidgets as widgets\n",
    "\n",
    "\n",
    "######################\n",
    "# Custom Module Import\n",
    "#####################\n",
    "import os,sys,inspect\n",
    "currentdir = os.path.dirname(os.path.abspath(inspect.getfile(inspect.currentframe())))\n",
    "parentdir = os.path.dirname(currentdir)\n",
    "sys.path.insert(0,parentdir) \n",
    "\n",
    "\n",
    "import PyLib.BambooLib.BambooLib.Ingest as Ingest\n",
    "import importlib\n",
    "importlib.reload(Ingest)"
   ]
  },
  {
   "cell_type": "code",
   "execution_count": 3,
   "metadata": {},
   "outputs": [
    {
     "data": {
      "text/plain": [
       "'be32c0e83f36913d1ea62ab15e93eff0'"
      ]
     },
     "execution_count": 3,
     "metadata": {},
     "output_type": "execute_result"
    }
   ],
   "source": [
    "#####\n",
    "# Add documentation at the top of each code cell\n",
    "# In this notebook we will hash a set of strings\n",
    "#####\n",
    "\n",
    "testStr = \"Isn't it pretty to think so\"\n",
    "\n",
    "# we will use a hashing function in the BambooLib.Ingest module\n",
    "Ingest.generate_uniqueid(testStr)"
   ]
  },
  {
   "cell_type": "code",
   "execution_count": null,
   "metadata": {},
   "outputs": [],
   "source": []
  }
 ],
 "metadata": {
  "kernelspec": {
   "display_name": "Python 3",
   "language": "python",
   "name": "python3"
  },
  "language_info": {
   "codemirror_mode": {
    "name": "ipython",
    "version": 3
   },
   "file_extension": ".py",
   "mimetype": "text/x-python",
   "name": "python",
   "nbconvert_exporter": "python",
   "pygments_lexer": "ipython3",
   "version": "3.7.6"
  }
 },
 "nbformat": 4,
 "nbformat_minor": 4
}
