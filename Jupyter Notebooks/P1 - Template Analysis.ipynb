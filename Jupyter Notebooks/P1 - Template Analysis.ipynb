{
 "cells": [
  {
   "cell_type": "markdown",
   "metadata": {},
   "source": [
    "PROJECT NAME\n",
    "<br>DNV GL\n",
    "\n",
    "\n",
    "# Residential Energy Consumption Survey\n",
    "\n",
    "In this notebook we will be performing some basic analyses of the [Residential Energy Consumption Survey](https://www.eia.gov/consumption/residential/data/2015/index.php?view=microdata) dataset.\n",
    "\n",
    "\n",
    "## Input Datasets\n",
    "\n",
    "| Dataset | File Name | Data Cleaning |\n",
    "| --- | --- | --- |\n",
    "| RECS 2015 Dataset | recs2015_public_v4.csv | |\n",
    "| RECS 2015 Data Dictionary| codebook_publicv4.xlsx | |"
   ]
  },
  {
   "cell_type": "code",
   "execution_count": 2,
   "metadata": {},
   "outputs": [
    {
     "data": {
      "text/plain": [
       "<module 'PyLib.PythonFile1' from 'C:\\\\Users\\\\benjohn\\\\Documents\\\\GitHub\\\\Template-Python-Project\\\\PyLib\\\\PythonFile1.py'>"
      ]
     },
     "execution_count": 2,
     "metadata": {},
     "output_type": "execute_result"
    }
   ],
   "source": [
    "from datetime import date\n",
    "import pandas as pd\n",
    "import numpy as np\n",
    "\n",
    "\n",
    "######################\n",
    "# Custom Module Import\n",
    "#####################\n",
    "import os,sys,inspect\n",
    "currentdir = os.path.dirname(os.path.abspath(inspect.getfile(inspect.currentframe())))\n",
    "parentdir = os.path.dirname(currentdir)\n",
    "sys.path.insert(0,parentdir) \n",
    "\n",
    "import PyLib.PythonFile1 as MyPy\n",
    "\n",
    "# to refresh the module use importlib.reload\n",
    "import importlib\n",
    "importlib.reload(MyPy)"
   ]
  },
  {
   "cell_type": "code",
   "execution_count": 23,
   "metadata": {},
   "outputs": [],
   "source": [
    "#####\n",
    "# Import RECS dataset\n",
    "#####\n",
    "\n",
    "df = pd.read_csv(\"../Data/recs2015_public_v4.csv\")"
   ]
  },
  {
   "cell_type": "code",
   "execution_count": 24,
   "metadata": {},
   "outputs": [
    {
     "name": "stdout",
     "output_type": "stream",
     "text": [
      "Sum of all weights : 118,208,250\n"
     ]
    }
   ],
   "source": [
    "#####\n",
    "# Sum weights\n",
    "#####\n",
    "\n",
    "total_wgt = df['NWEIGHT'].sum()\n",
    "print(f\"Sum of all weights : {total_wgt:,.0f}\")"
   ]
  }
 ],
 "metadata": {
  "kernelspec": {
   "display_name": "Python 3",
   "language": "python",
   "name": "python3"
  },
  "language_info": {
   "codemirror_mode": {
    "name": "ipython",
    "version": 3
   },
   "file_extension": ".py",
   "mimetype": "text/x-python",
   "name": "python",
   "nbconvert_exporter": "python",
   "pygments_lexer": "ipython3",
   "version": "3.7.6"
  }
 },
 "nbformat": 4,
 "nbformat_minor": 4
}
